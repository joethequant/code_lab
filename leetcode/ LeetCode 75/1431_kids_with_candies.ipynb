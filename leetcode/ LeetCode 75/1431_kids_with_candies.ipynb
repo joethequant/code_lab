{
 "cells": [
  {
   "cell_type": "markdown",
   "id": "32f0ae99",
   "metadata": {},
   "source": [
    "# LeetCode 1431: Kids With the Greatest Number of Candies\n",
    "\n",
    "**Difficulty:** Easy  \n",
    "**Topic:** Array\n",
    "\n",
    "## Problem Statement\n",
    "\n",
    "You are given an integer array `candies` where each element represents the number of candies the *i*-th kid has, and an integer `extraCandies` representing the number of extra candies that you have.\n",
    "\n",
    "Return a boolean list `answer` of length `len(candies)` such that `answer[i]` is `True` if, after giving the *i*-th kid all the `extraCandies`, they would have the **greatest** number of candies among all the kids (ties count), and `False` otherwise.\n",
    "\n",
    "**Example**\n",
    "```\n",
    "Input:  candies = [2,3,5,1,3], extraCandies = 3\n",
    "Output: [True, True, True, False, True]\n",
    "Explanation: Max is 5. Adding 3 to each kid gives [5,6,8,4,6]; positions 0,1,2,4 have >= 8? The maximum after giving to kid 2 is 8; any kid who can reach at least 8 is marked True.\n",
    "```\n",
    "\n",
    "**Constraints**\n",
    "- `2 <= len(candies) <= 100`\n",
    "- `1 <= candies[i] <= 100`\n",
    "- `1 <= extraCandies <= 50`\n",
    "\n",
    "---\n",
    "_Last updated: 2025-09-21 16:06:13_\n",
    "\n",
    "\n",
    "# Stats\n",
    "\n",
    "![Merge Example](./images/1431_kids_with_candies.png)"
   ]
  },
  {
   "cell_type": "markdown",
   "id": "2559d9f7",
   "metadata": {},
   "source": [
    "\n",
    "## Solutions Overview\n",
    "\n",
    "We compare each kid's current candies plus `extraCandies` to the current global maximum:\n",
    "\n",
    "Let `M = max(candies)`. For each `c` in `candies`, set `ans[i] = (c + extraCandies >= M)`.\n",
    "\n",
    "This yields an **O(n)** time, **O(1)** extra-space algorithm (excluding the output list).\n",
    "\n",
    "### Implementations Included\n",
    "1. **`kids_with_candies_v1`** – Pythonic one-liner using list comprehension.\n",
    "2. **`kids_with_candies_v2`** – Explicit loop for readability and step-by-step clarity.\n",
    "\n",
    "All solutions are equivalent in complexity; small constant-factor differences are highlighted in micro-benchmarks for input sizes: **[10, 1000, 100000]**.\n"
   ]
  },
  {
   "cell_type": "code",
   "execution_count": 1,
   "id": "3e0824c8",
   "metadata": {},
   "outputs": [],
   "source": [
    "\n",
    "from typing import List\n",
    "\n",
    "def kids_with_candies_v1(candies: List[int], extra_candies: int) -> List[bool]:\n",
    "    \"\"\"Pythonic list-comprehension solution.\n",
    "\n",
    "    Time: O(n)\n",
    "    Space: O(1) extra (output excluded)\n",
    "    \"\"\"\n",
    "    m = max(candies)\n",
    "    return [c + extra_candies >= m for c in candies]\n"
   ]
  },
  {
   "cell_type": "code",
   "execution_count": 2,
   "id": "8f977bc2",
   "metadata": {},
   "outputs": [],
   "source": [
    "\n",
    "from typing import List\n",
    "\n",
    "def kids_with_candies_v2(candies: List[int], extra_candies: int) -> List[bool]:\n",
    "    \"\"\"Imperative loop version (same logic, more verbose).\"\"\"\n",
    "    m = max(candies)\n",
    "    out: List[bool] = []\n",
    "    for c in candies:\n",
    "        out.append(c + extra_candies >= m)\n",
    "    return out\n"
   ]
  },
  {
   "cell_type": "code",
   "execution_count": 3,
   "id": "4af2526b",
   "metadata": {},
   "outputs": [
    {
     "name": "stdout",
     "output_type": "stream",
     "text": [
      "All tests passed ✅\n"
     ]
    }
   ],
   "source": [
    "\n",
    "# Correctness Tests (examples + a few edge cases)\n",
    "def run_tests():\n",
    "    cases = [\n",
    "        (([2,3,5,1,3], 3), [True, True, True, False, True]),\n",
    "        (([4,2,1,1,2], 1), [True, False, False, False, False]),\n",
    "        (([12,1,12], 10), [True, False, True]),\n",
    "        (([1,1], 0), [True, True]),              # both tied already\n",
    "        (([1,2], 0), [False, True]),             # no extras\n",
    "        (([100], 50), [True]),                   # single kid\n",
    "    ]\n",
    "    fns = [kids_with_candies_v1, kids_with_candies_v2]\n",
    "    for fn in fns:\n",
    "        for (candies, extra), expected in cases:\n",
    "            got = fn(candies, extra)\n",
    "            assert got == expected, f\"{fn.__name__} failed: {got} != {expected}\"\n",
    "    print(\"All tests passed ✅\")\n",
    "\n",
    "run_tests()\n"
   ]
  },
  {
   "cell_type": "code",
   "execution_count": 4,
   "id": "ef3fe008",
   "metadata": {},
   "outputs": [
    {
     "name": "stdout",
     "output_type": "stream",
     "text": [
      "        n              function  time_per_call_sec  iters\n",
      "0      10  kids_with_candies_v1       6.197640e-07  20000\n",
      "1      10  kids_with_candies_v2       6.426061e-07  20000\n",
      "2    1000  kids_with_candies_v1       3.684508e-05   2000\n",
      "3    1000  kids_with_candies_v2       3.967279e-05   2000\n",
      "4  100000  kids_with_candies_v1       3.117229e-03    200\n",
      "5  100000  kids_with_candies_v2       3.651780e-03    200\n"
     ]
    },
    {
     "data": {
      "text/html": [
       "<div>\n",
       "<style scoped>\n",
       "    .dataframe tbody tr th:only-of-type {\n",
       "        vertical-align: middle;\n",
       "    }\n",
       "\n",
       "    .dataframe tbody tr th {\n",
       "        vertical-align: top;\n",
       "    }\n",
       "\n",
       "    .dataframe thead th {\n",
       "        text-align: right;\n",
       "    }\n",
       "</style>\n",
       "<table border=\"1\" class=\"dataframe\">\n",
       "  <thead>\n",
       "    <tr style=\"text-align: right;\">\n",
       "      <th></th>\n",
       "      <th>n</th>\n",
       "      <th>function</th>\n",
       "      <th>time_per_call_sec</th>\n",
       "      <th>iters</th>\n",
       "    </tr>\n",
       "  </thead>\n",
       "  <tbody>\n",
       "    <tr>\n",
       "      <th>0</th>\n",
       "      <td>10</td>\n",
       "      <td>kids_with_candies_v1</td>\n",
       "      <td>6.197640e-07</td>\n",
       "      <td>20000</td>\n",
       "    </tr>\n",
       "    <tr>\n",
       "      <th>1</th>\n",
       "      <td>10</td>\n",
       "      <td>kids_with_candies_v2</td>\n",
       "      <td>6.426061e-07</td>\n",
       "      <td>20000</td>\n",
       "    </tr>\n",
       "    <tr>\n",
       "      <th>2</th>\n",
       "      <td>1000</td>\n",
       "      <td>kids_with_candies_v1</td>\n",
       "      <td>3.684508e-05</td>\n",
       "      <td>2000</td>\n",
       "    </tr>\n",
       "    <tr>\n",
       "      <th>3</th>\n",
       "      <td>1000</td>\n",
       "      <td>kids_with_candies_v2</td>\n",
       "      <td>3.967279e-05</td>\n",
       "      <td>2000</td>\n",
       "    </tr>\n",
       "    <tr>\n",
       "      <th>4</th>\n",
       "      <td>100000</td>\n",
       "      <td>kids_with_candies_v1</td>\n",
       "      <td>3.117229e-03</td>\n",
       "      <td>200</td>\n",
       "    </tr>\n",
       "    <tr>\n",
       "      <th>5</th>\n",
       "      <td>100000</td>\n",
       "      <td>kids_with_candies_v2</td>\n",
       "      <td>3.651780e-03</td>\n",
       "      <td>200</td>\n",
       "    </tr>\n",
       "  </tbody>\n",
       "</table>\n",
       "</div>"
      ],
      "text/plain": [
       "        n              function  time_per_call_sec  iters\n",
       "0      10  kids_with_candies_v1       6.197640e-07  20000\n",
       "1      10  kids_with_candies_v2       6.426061e-07  20000\n",
       "2    1000  kids_with_candies_v1       3.684508e-05   2000\n",
       "3    1000  kids_with_candies_v2       3.967279e-05   2000\n",
       "4  100000  kids_with_candies_v1       3.117229e-03    200\n",
       "5  100000  kids_with_candies_v2       3.651780e-03    200"
      ]
     },
     "execution_count": 4,
     "metadata": {},
     "output_type": "execute_result"
    }
   ],
   "source": [
    "\n",
    "import random\n",
    "import timeit\n",
    "import pandas as pd\n",
    "from typing import Callable, List\n",
    "\n",
    "RNG_SEED = 1337\n",
    "SIZES = [10, 1000, 100000]\n",
    "\n",
    "def make_case(n: int) -> tuple[list[int], int]:\n",
    "    rnd = random.Random(RNG_SEED + n)\n",
    "    candies = [rnd.randint(1, 100) for _ in range(n)]\n",
    "    extra = rnd.randint(1, 50)\n",
    "    return candies, extra\n",
    "\n",
    "def bench(fn: Callable[[List[int], int], List[bool]], candies: List[int], extra: int, number: int) -> float:\n",
    "    timer = timeit.Timer(lambda: fn(candies, extra))\n",
    "    return min(timer.repeat(repeat=3, number=number)) / number\n",
    "\n",
    "rows = []\n",
    "for n in SIZES:\n",
    "    candies, extra = make_case(n)\n",
    "    # Choose iteration counts to keep the cell snappy\n",
    "    if n <= 100:\n",
    "        number = 20000\n",
    "    elif n <= 10_000:\n",
    "        number = 2000\n",
    "    else:\n",
    "        number = 200\n",
    "    for fn in [kids_with_candies_v1, kids_with_candies_v2]:\n",
    "        t = bench(fn, candies, extra, number)\n",
    "        rows.append({\"n\": n, \"function\": fn.__name__, \"time_per_call_sec\": t, \"iters\": number})\n",
    "\n",
    "df = pd.DataFrame(rows).sort_values([\"n\", \"time_per_call_sec\"]).reset_index(drop=True)\n",
    "try:\n",
    "    from caas_jupyter_tools import display_dataframe_to_user\n",
    "    display_dataframe_to_user(\"kids_with_candies_benchmark\", df)\n",
    "except Exception as e:\n",
    "    print(df)\n",
    "df\n"
   ]
  },
  {
   "cell_type": "markdown",
   "id": "9c8d3e0d",
   "metadata": {},
   "source": [
    "\n",
    "## Benchmark Takeaways\n",
    "\n",
    "- Both implementations run in linear time and are effectively identical in asymptotics.\n",
    "- The list-comprehension version (`v1`) tends to be a hair faster in CPython due to optimized looping at the C level.\n",
    "- For large `n` (e.g., 100k), both variants complete in milliseconds on modern hardware; any difference is negligible for production.\n"
   ]
  },
  {
   "cell_type": "code",
   "execution_count": 5,
   "id": "efab79f2",
   "metadata": {},
   "outputs": [],
   "source": [
    "\n",
    "from typing import List\n",
    "\n",
    "class Solution:\n",
    "    \"\"\"Production-style implementation with type hints and docstring.\n",
    "\n",
    "    This mirrors `kids_with_candies_v1`.\n",
    "    \"\"\"\n",
    "    def kidsWithCandies(self, candies: List[int], extraCandies: int) -> List[bool]:\n",
    "        m = max(candies)\n",
    "        # Prefer building a list via comprehension for speed and clarity\n",
    "        return [c + extraCandies >= m for c in candies]\n"
   ]
  },
  {
   "cell_type": "markdown",
   "id": "385daae6",
   "metadata": {},
   "source": [
    "\n",
    "## Appendix: Methods & Functions Explained\n",
    "\n",
    "- **`max(iterable)`**: Returns the largest item in an iterable. We compute it once to avoid repeated scans.\n",
    "- **List Comprehension**: `[expr for x in seq]` builds lists succinctly and efficiently in Python.\n",
    "- **`timeit`**: Measures execution time accurately by running multiple iterations.\n",
    "- **`pandas.DataFrame`**: Used to present benchmark results in a clean tabular format.\n"
   ]
  },
  {
   "cell_type": "code",
   "execution_count": 6,
   "id": "10638970",
   "metadata": {},
   "outputs": [
    {
     "name": "stdout",
     "output_type": "stream",
     "text": [
      "Python: 3.12.1 (main, Jul 10 2025, 11:57:50) [GCC 13.3.0]\n",
      "Platform: Linux-6.8.0-1030-azure-x86_64-with-glibc2.39\n",
      "Timestamp: 2025-09-21T16:10:21.914946Z\n",
      "pandas: 2.3.1\n",
      "numpy: 2.3.1\n"
     ]
    },
    {
     "name": "stderr",
     "output_type": "stream",
     "text": [
      "/tmp/ipykernel_15056/4191680466.py:12: DeprecationWarning: datetime.datetime.utcnow() is deprecated and scheduled for removal in a future version. Use timezone-aware objects to represent datetimes in UTC: datetime.datetime.now(datetime.UTC).\n",
      "  print(\"Timestamp:\", datetime.datetime.utcnow().isoformat() + \"Z\")\n"
     ]
    }
   ],
   "source": [
    "\n",
    "import sys, platform, datetime, importlib\n",
    "\n",
    "def pkg_ver(name: str) -> str:\n",
    "    try:\n",
    "        m = importlib.import_module(name)\n",
    "        return getattr(m, \"__version__\", \"unknown\")\n",
    "    except Exception:\n",
    "        return \"not installed\"\n",
    "\n",
    "print(\"Python:\", sys.version.replace(\"\\n\", \" \"))\n",
    "print(\"Platform:\", platform.platform())\n",
    "print(\"Timestamp:\", datetime.datetime.utcnow().isoformat() + \"Z\")\n",
    "print(\"pandas:\", pkg_ver(\"pandas\"))\n",
    "print(\"numpy:\", pkg_ver(\"numpy\"))\n"
   ]
  },
  {
   "cell_type": "markdown",
   "id": "4fc8a2a3",
   "metadata": {},
   "source": [
    "\n",
    "## Notes\n",
    "\n",
    "- Time and space complexity are optimal: **O(n)** time, **O(1)** extra space (excluding the output list).\n",
    "- Edge cases covered: single-element arrays, zero extras, all equal values.\n",
    "- Style tips: favor comprehensions over manual appends when readability is not compromised.\n"
   ]
  }
 ],
 "metadata": {
  "kernelspec": {
   "display_name": "Python 3",
   "language": "python",
   "name": "python3"
  },
  "language_info": {
   "codemirror_mode": {
    "name": "ipython",
    "version": 3
   },
   "file_extension": ".py",
   "mimetype": "text/x-python",
   "name": "python",
   "nbconvert_exporter": "python",
   "pygments_lexer": "ipython3",
   "version": "3.12.1"
  }
 },
 "nbformat": 4,
 "nbformat_minor": 5
}
